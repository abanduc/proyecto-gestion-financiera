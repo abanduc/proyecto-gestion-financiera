{
  "nbformat": 4,
  "nbformat_minor": 0,
  "metadata": {
    "colab": {
      "provenance": [],
      "authorship_tag": "ABX9TyOaQG4L2X3/QomanVWeycm9",
      "include_colab_link": true
    },
    "kernelspec": {
      "name": "python3",
      "display_name": "Python 3"
    },
    "language_info": {
      "name": "python"
    }
  },
  "cells": [
    {
      "cell_type": "markdown",
      "metadata": {
        "id": "view-in-github",
        "colab_type": "text"
      },
      "source": [
        "<a href=\"https://colab.research.google.com/github/abanduc/proyecto-gestion-financiera/blob/main/Hito2_GF_AB.ipynb\" target=\"_parent\"><img src=\"https://colab.research.google.com/assets/colab-badge.svg\" alt=\"Open In Colab\"/></a>"
      ]
    },
    {
      "cell_type": "markdown",
      "source": [
        "# Valoración opciones aplicada\n",
        "\n",
        "Tome en consideración el modelo continuio de Black and Scholes:\n",
        "\n",
        "$$C(S,t)=S\\cdot\\Phi(d_1)-K\\exp(-R\\cdot t)\\cdot\\Phi(d_2)$$\n",
        "\n",
        "donde $d_1=\\frac{\\log\\frac{S}{K}+\\left(R+\\frac{\\sigma^2}{2}\\right)\\cdot t}{\\sqrt{\\sigma^2\\cdot t}}$ y $d_2=d_1-\\sqrt{\\sigma^2\\cdot t}$.\n",
        "\n",
        "Defina los parámetros asociados a valores del activo definido en la Tarea 1 y calcule el valor de una opción de compra."
      ],
      "metadata": {
        "id": "8uc50kihcGer"
      }
    },
    {
      "cell_type": "code",
      "execution_count": 6,
      "metadata": {
        "colab": {
          "base_uri": "https://localhost:8080/"
        },
        "id": "fhP9WaPZcEyA",
        "outputId": "abf4d9cf-0ad7-455f-a6aa-222f8379d8b3"
      },
      "outputs": [
        {
          "output_type": "stream",
          "name": "stdout",
          "text": [
            "Requirement already satisfied: numpy in /usr/local/lib/python3.10/dist-packages (1.23.5)\n",
            "Requirement already satisfied: scipy in /usr/local/lib/python3.10/dist-packages (1.11.3)\n"
          ]
        }
      ],
      "source": [
        "!pip install numpy scipy\n"
      ]
    },
    {
      "cell_type": "code",
      "source": [
        "####################################\n",
        "#      MODELO BLACK AND SCHOLES\n",
        "####################################\n",
        "import numpy as np\n",
        "from scipy.stats import norm\n",
        "\n",
        "# Datos del activo y opción\n",
        "precio_activo = 6458.9\n",
        "precio_ejercicio = 6461.7\n",
        "\n",
        "# Datos financieros\n",
        "tasa_interes = 0.032  # Tasa de interés libre de riesgo en Chile\n",
        "volatilidad = 0.157  # Volatilidad del activo\n",
        "tiempo_expiracion = 0.5  # Tiempo hasta la expiración (en años)\n",
        "\n",
        "# Cálculo de d1 y d2 para Black-Scholes\n",
        "log_price_ratio = np.log(precio_activo / precio_ejercicio)\n",
        "volatility_term = volatilidad * np.sqrt(tiempo_expiracion)\n",
        "d1 = (log_price_ratio + (tasa_interes + (volatilidad ** 2) / 2) * tiempo_expiracion) / volatility_term\n",
        "d2 = d1 - volatility_term\n",
        "\n",
        "# Fórmula Black-Scholes para valorizar una opción de compra\n",
        "call_option_value = precio_activo * norm.cdf(d1) - precio_ejercicio * np.exp(-tasa_interes * tiempo_expiracion) * norm.cdf(d2)\n",
        "\n",
        "# Resultados\n",
        "print(f\"Usando el modelo Black-Scholes, el valor de la opción de compra es: {call_option_value:.2f}\")\n"
      ],
      "metadata": {
        "colab": {
          "base_uri": "https://localhost:8080/"
        },
        "id": "AwAQHteBcLOK",
        "outputId": "e0de92f2-89fe-403f-f106-fd114da7095c"
      },
      "execution_count": 7,
      "outputs": [
        {
          "output_type": "stream",
          "name": "stdout",
          "text": [
            "Usando el modelo Black-Scholes, el valor de la opción de compra es: 336.37\n"
          ]
        }
      ]
    },
    {
      "cell_type": "code",
      "source": [
        "####################################\n",
        "#      MODELO MONTECARLO\n",
        "####################################\n",
        "num_simulaciones = 10000\n",
        "precio_activo = 100\n",
        "tasa_interes = 0.05\n",
        "volatilidad = 0.2\n",
        "tiempo_expiracion = 1.0\n",
        "precio_ejercicio = 105\n",
        "\n",
        "np.random.seed(0)\n",
        "simulaciones = np.random.normal(0, 1, num_simulaciones)\n",
        "descuento = np.exp(-tasa_interes * tiempo_expiracion)\n",
        "\n",
        "\n",
        "precio_futuro = precio_activo * np.exp((tasa_interes - 0.5 * volatilidad**2) * tiempo_expiracion + volatilidad * np.sqrt(tiempo_expiracion) * simulaciones)\n",
        "pagos = np.maximum(precio_futuro - precio_ejercicio, 0)\n",
        "\n",
        "valor_opcion_compra = descuento * np.mean(pagos)\n",
        "\n",
        "print(f\"Valor de la opción de compra (Monte Carlo): {valor_opcion_compra:.2f}\")\n"
      ],
      "metadata": {
        "colab": {
          "base_uri": "https://localhost:8080/"
        },
        "id": "uYnc71Goc7nT",
        "outputId": "b77116cd-9691-437d-fcfb-66f2b0298214"
      },
      "execution_count": 8,
      "outputs": [
        {
          "output_type": "stream",
          "name": "stdout",
          "text": [
            "Valor de la opción de compra (Monte Carlo): 7.70\n"
          ]
        }
      ]
    },
    {
      "cell_type": "code",
      "source": [
        "####################################\n",
        "#      MODELO BINOMIAL\n",
        "####################################\n",
        "\n",
        "import yfinance as yf\n",
        "import datetime as dt\n",
        "\n",
        "def binomial_option_pricing(S, K, T, r, sigma, option_type='call', n=98):\n",
        "   # Calcula el paso de tiempo y el factor de descuento\n",
        "    dt = T / n\n",
        "    discount_factor = np.exp(-r * dt)\n",
        "\n",
        "    # Calcula los valores de movimiento hacia arriba y hacia abajo\n",
        "    u = np.exp(sigma * np.sqrt(dt))\n",
        "    d = 1 / u\n",
        "\n",
        "    # Calcula las probabilidades neutrales al riesgo\n",
        "    q = (np.exp(r * dt) - d) / (u - d)\n",
        "\n",
        "    # Inicializa una matriz para almacenar los valores de la opción en cada nodo del árbol\n",
        "    option_values = np.zeros((n + 1, n + 1))\n",
        "\n",
        "    # Llena la matriz de valores de opción en función del modelo de árbol binomial\n",
        "    for j in range(n + 1):\n",
        "        if option_type == 'call':\n",
        "            option_values[n, j] = max(0, S * (u**j) * (d**(n - j)) - K)\n",
        "        else:\n",
        "            option_values[n, j] = max(0, K - S * (u**j) * (d**(n - j)))\n",
        "\n",
        "    for i in range(n - 1, -1, -1):\n",
        "        for j in range(i + 1):\n",
        "            if option_type == 'call':\n",
        "                option_values[i, j] = max(0, (q * option_values[i + 1, j] + (1 - q) * option_values[i + 1, j + 1]) * discount_factor)\n",
        "            else:\n",
        "                option_values[i, j] = max(0, (q * option_values[i + 1, j] + (1 - q) * option_values[i + 1, j + 1]) * discount_factor)\n",
        "\n",
        "    return option_values[0, 0]\n",
        "\n",
        "symbol =  \"COPEC.SN\"\n",
        "asset_data = yf.Ticker(symbol)\n",
        "precio_accion = asset_data.history(period='1d')['Close'][0]\n",
        "\n",
        "data = yf.download(symbol, start='2023-01-01', end=dt.date.today().strftime(\"%Y-%m-%d\"))\n",
        "\n",
        "data[\"Daily_Returns\"] = data[\"Adj Close\"].pct_change()\n",
        "volatilidad = data[\"Daily_Returns\"].std()\n",
        "\n",
        "opcion = yf.Ticker(\"SPG231215C00055000\")\n",
        "precio_strike = opcion.info[\"strikePrice\"]\n",
        "fecha = dt.datetime.utcfromtimestamp(opcion.info[\"expireDate\"])\n",
        "tiempo_para_vencimiento = (np.datetime64(fecha) - np.datetime64('today')) / np.timedelta64(1, 'D')\n",
        "\n",
        "treasury_data = yf.Ticker(\"^TNX\")\n",
        "treasury_history = treasury_data.history(period=\"1d\")\n",
        "tasa_libre_de_riesgo = treasury_history['Close'][0] / 100\n",
        "\n",
        "option_type = 'call'\n",
        "\n",
        "option_price = binomial_option_pricing(precio_accion, precio_strike, tiempo_para_vencimiento / 365, tasa_libre_de_riesgo, volatilidad, option_type)\n",
        "\n",
        "print(f\"Precio de la opción {option_type}: {option_price:.2f}\")\n",
        "\n"
      ],
      "metadata": {
        "colab": {
          "base_uri": "https://localhost:8080/"
        },
        "id": "zYSP2YfVeiaI",
        "outputId": "a0e71e64-c5bd-41de-a4ed-5fa5f5b4d4d5"
      },
      "execution_count": 27,
      "outputs": [
        {
          "output_type": "stream",
          "name": "stdout",
          "text": [
            "\r[*********************100%%**********************]  1 of 1 completed\n",
            "Precio de la opción call: 6164.12\n"
          ]
        }
      ]
    },
    {
      "cell_type": "markdown",
      "source": [
        "##Reporte Grupal: Caso Administración\n",
        "\n",
        "\n",
        "Se eligen uno de los siguientes casos con tal de replicar y responder sus preguntas de acuerdo al activo principal elegido:\n",
        "\n",
        "Caso Administración de Capital de Trabajo de Keafer Manufacturing de la página 822 del ROSS.\n",
        "\n",
        "Caso Administración de Efectivo de Richmond Corporation de la página 845 del ROSS.\n",
        "\n",
        "Caso Administración de Efectivo de Braam Industries de la página 874 del ROSS.\n",
        "\n",
        "En este caso, el grupo eligió el Caso Administración de Efectivo de Braam Industries, donde se debe examinar la política de crédito de la compañía para ver si una política diferente podría contribuir a aumentar la rentabilidad. En ese caso, una vez determinada la política de crédito actual, se proponen 3 opciones para cambiar esta política, y se debe determinar cuál es la mejor alternativa y determinar inconsistencias.\n",
        "\n",
        "Este caso se replicó para la compañía Parque Arauco. Para esto, se buscó en los E.E.F.F. de la compañía para el año 2022 toda la información necesaria para poder resolver el caso, tales como los ingresos por ventas, el monto en cuentas por cobrar, los costos administrativos, los costos variables de la operación, etc. La información encontrada fue la siguiente:\n"
      ],
      "metadata": {
        "id": "N4Dj_qVhdGK2"
      }
    },
    {
      "cell_type": "code",
      "source": [
        "# Definición de los datos\n",
        "ingresos_ventas_2022 = 243119543000\n",
        "deudores_2022 = 22420967000\n",
        "deudores_2021 = 23653332000\n",
        "costos_administrativos = 22424419000\n",
        "costo_ventas = 55126662000\n",
        "\n",
        "# Imprimir la tabla\n",
        "print(\"Ingresos por Ventas Anuales (CLP$)\\t\", f\"${ingresos_ventas_2022:,}\")\n",
        "print(\"Monto Neto de Deudores por venta 2022 (CLP$)\\t\", f\"${deudores_2022:,}\")\n",
        "print(\"Monto Neto de Deudores por venta 2021 (CLP$)\\t\", f\"${deudores_2021:,}\")\n",
        "print(\"Costos Administrativos (CLP$)\\t\\t\", f\"${costos_administrativos:,}\")\n",
        "print(\"Costo de las Ventas (CLP$)\\t\\t\\t\", f\"${costo_ventas:,}\")\n"
      ],
      "metadata": {
        "colab": {
          "base_uri": "https://localhost:8080/"
        },
        "id": "w_jXUMUGdYY4",
        "outputId": "b5c8e434-ff52-4d4a-85dc-958b668eb5ba"
      },
      "execution_count": 9,
      "outputs": [
        {
          "output_type": "stream",
          "name": "stdout",
          "text": [
            "Ingresos por Ventas Anuales (CLP$)\t $243,119,543,000\n",
            "Monto Neto de Deudores por venta 2022 (CLP$)\t $22,420,967,000\n",
            "Monto Neto de Deudores por venta 2021 (CLP$)\t $23,653,332,000\n",
            "Costos Administrativos (CLP$)\t\t $22,424,419,000\n",
            "Costo de las Ventas (CLP$)\t\t\t $55,126,662,000\n"
          ]
        }
      ]
    },
    {
      "cell_type": "markdown",
      "source": [
        "Con esta información, fue posible obtener las ventas anuales, la tasa de incumplimiento y los costos administrativos como porcentaje de las ventas, además del periodo de cuentas por cobrar y los costos variables que se tienen con la política de crédito actual.\n",
        "\n",
        "La tasa de incumplimiento como porcentaje de las ventas corresponde a la división entre el Monto Neto de Deudores por Venta para el año 2022 y las Ventas Anuales. Los costos administrativos como porcentaje de las ventas corresponden a la división entre los Costos Administrativos y las Ventas Anuales. El periodo de cuentas por cobrar corresponde a la división entre el promedio del Monto Neto de Deudores inicial y final, con las Ventas Anuales, y todo eso dividido por 365 para obtener la cantidad de días. Por último, los costos variables como porcentaje corresponden a la división entre los Costos de las Ventas y las Ventas Anuales.\n",
        "\n",
        "Los resultados se presentan a continuación:\n"
      ],
      "metadata": {
        "id": "7DAIqy48dily"
      }
    },
    {
      "cell_type": "code",
      "source": [
        "# Definición de los datos\n",
        "ventas_anuales = 243119543000\n",
        "tasa_incumplimiento = 9.222199\n",
        "costos_administrativos = 9.22362\n",
        "periodo_cuentas_cobrar = 34.5861\n",
        "costos_variables = 23\n",
        "\n",
        "# Imprimir la tabla\n",
        "print(\"Ventas Anuales (CLP)\\t\\t\\t\", f\"${ventas_anuales:,}\")\n",
        "print(\"Tasa de Incumplimiento (% Ventas)\\t\", f\"{tasa_incumplimiento:.6f}%\")\n",
        "print(\"Costos Administrativos (% Ventas)\\t\", f\"{costos_administrativos:.5f}%\")\n",
        "print(\"Periodo de cuentas por cobrar (Días)\\t\", f\"{periodo_cuentas_cobrar:.4f}\")\n",
        "print(\"Costos Variables\\t\\t\\t\", f\"{costos_variables}%\")\n"
      ],
      "metadata": {
        "colab": {
          "base_uri": "https://localhost:8080/"
        },
        "id": "TPQ-EoS_dl80",
        "outputId": "5803f2b0-096a-494c-ec2b-edf825b42c7b"
      },
      "execution_count": 10,
      "outputs": [
        {
          "output_type": "stream",
          "name": "stdout",
          "text": [
            "Ventas Anuales (CLP)\t\t\t $243,119,543,000\n",
            "Tasa de Incumplimiento (% Ventas)\t 9.222199%\n",
            "Costos Administrativos (% Ventas)\t 9.22362%\n",
            "Periodo de cuentas por cobrar (Días)\t 34.5861\n",
            "Costos Variables\t\t\t 23%\n"
          ]
        }
      ]
    },
    {
      "cell_type": "markdown",
      "source": [
        "También, es importante señalar que para los cálculos que vienen a continuación, se utilizó la tasa de interés promedio de aquel periodo, correspondiente a un 8,375%.\n",
        "\n",
        "En lo que respecta a las diferentes opciones estas difieren en las ventas anuales, tasa de incumplimiento, costos administrativos y periodo de cuentas por cobrar. Luego, para evaluar cada opción se realiza el cálculo del Valor Presente Neto de cada una. De esta forma, se escoge la opción la cuál obtiene un VPN más alto, en comparación a las demás. Los resultados fueron los que se presentan a continuación.\n"
      ],
      "metadata": {
        "id": "EDzVrHv2dsLy"
      }
    },
    {
      "cell_type": "code",
      "source": [
        "# Definición de los datos\n",
        "vpn = {\n",
        "    1: 43300724413.19,\n",
        "    2: 38355341091.22,\n",
        "    3: 43791215884.26\n",
        "}\n",
        "\n",
        "# Imprimir la tabla\n",
        "print(\"Opción\\tVPN (CLP)\")\n",
        "for opcion, valor in vpn.items():\n",
        "    print(f\"{opcion}\\t{valor:,.2f}\")\n"
      ],
      "metadata": {
        "colab": {
          "base_uri": "https://localhost:8080/"
        },
        "id": "nrM_mV0TdweK",
        "outputId": "c51d58e3-a588-419f-c823-cdd3dae081bd"
      },
      "execution_count": 11,
      "outputs": [
        {
          "output_type": "stream",
          "name": "stdout",
          "text": [
            "Opción\tVPN (CLP)\n",
            "1\t43,300,724,413.19\n",
            "2\t38,355,341,091.22\n",
            "3\t43,791,215,884.26\n"
          ]
        }
      ]
    },
    {
      "cell_type": "markdown",
      "source": [
        "De donde se observa que la opción que obtiene el mayor valor es la opción 3, luego esta debería ser la política a adoptar por parte de la empresa. Ahora, en cuanto a los costos de incumplimiento y costos administrativos de la opción 3 y 2, es extraño que si la opción 3 genera más ingresos, esta tenga menores costos asociados. Por lo tanto, aunque los gastos y las ventas no siempre están directamente relacionados, al examinar los detalles, se observa que los gastos de la opción 3 no son inferiores a los de la opción 2. Por consiguiente, la afirmación inicial no parece factible.\n",
        "\n"
      ],
      "metadata": {
        "id": "8H691_KZd2L3"
      }
    }
  ]
}